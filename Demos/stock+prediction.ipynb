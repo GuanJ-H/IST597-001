{
 "cells": [
  {
   "cell_type": "code",
   "execution_count": 33,
   "metadata": {
    "collapsed": true
   },
   "outputs": [],
   "source": [
    " import os\n",
    "os.environ[\"PATH\"] += os.pathsep + 'C:/Program Files (x86)/Graphviz2.38/bin/'\n",
    "import datetime\n",
    "import pandas as pd\n",
    "import random\n",
    "\n",
    "import numpy as np\n",
    "import pickle\n",
    "import pydot\n",
    "from sklearn.metrics import mean_squared_error\n",
    "import matplotlib.pyplot as plt\n",
    "\n",
    "import csv\n",
    "from keras.utils import plot_model\n",
    "from keras import optimizers\n",
    "from keras.models import Sequential\n",
    "from keras.layers import core, Flatten\n",
    "from keras.layers.recurrent import LSTM,GRU,SimpleRNN\n",
    "from keras.layers import BatchNormalization,Conv1D\n",
    "# from keras import backend as K\n",
    "# K.set_image_dim_ordering('tf')"
   ]
  },
  {
   "cell_type": "code",
   "execution_count": 34,
   "metadata": {
    "collapsed": true
   },
   "outputs": [],
   "source": [
    "import quandl\n",
    "quandl.ApiConfig.api_key = 'ZhXAeHP_M4TuzbXSznR6'\n",
    "\n",
    "# ENVIRONMENT_VARIABLE['quandl_api_key']"
   ]
  },
  {
   "cell_type": "code",
   "execution_count": null,
   "metadata": {
    "collapsed": true
   },
   "outputs": [],
   "source": []
  },
  {
   "cell_type": "code",
   "execution_count": 35,
   "metadata": {
    "collapsed": true
   },
   "outputs": [],
   "source": [
    "def get_cummulative_return(data):\n",
    "    cumret  = (data / data[0]) - 1\n",
    "\n",
    "    return cumret"
   ]
  },
  {
   "cell_type": "code",
   "execution_count": 36,
   "metadata": {
    "collapsed": true
   },
   "outputs": [],
   "source": [
    "def windowData(data, windowsize = 1, step = 1):\n",
    "    # Note: this func will discard the tail of the data if they cannot fit the window fully.\n",
    "    return np.array([data[i: i + windowsize] for i in range(0,(len(data)-windowsize+1), step)])\n",
    "\n",
    "# Unit test ---------------------------------------------------------------------------------------\n",
    "# data = np.array(range(20))\n",
    "# print(data)\n",
    "# slicedData = window(data, windowsize=4, step=2)\n",
    "# print(slicedData)"
   ]
  },
  {
   "cell_type": "code",
   "execution_count": 37,
   "metadata": {
    "collapsed": true
   },
   "outputs": [],
   "source": [
    "def normalize_in_window(data):\n",
    "    # Normalize data in each window\n",
    "    data\n",
    "    return np.array([get_cummulative_return(split) for split in data])\n",
    "\n",
    "# # Unit test ---------------------------------------------------------------------------------------\n",
    "# data = np.array(range(20))\n",
    "# print(data)\n",
    "# slicedData = windowData(data, windowsize=4, step=2)\n",
    "# print(slicedData)\n",
    "# normailzeData = normalize_in_window(slicedData)\n",
    "# print(normailzeData)\n",
    "    "
   ]
  },
  {
   "cell_type": "code",
   "execution_count": 41,
   "metadata": {
    "collapsed": true
   },
   "outputs": [],
   "source": [
    "def load_obj(name,path):\n",
    "    with open(path + name + '.pkl', 'rb') as f:\n",
    "        return pickle.load(f)"
   ]
  },
  {
   "cell_type": "code",
   "execution_count": 42,
   "metadata": {
    "collapsed": true
   },
   "outputs": [],
   "source": [
    "def splitSingleData(data,\n",
    "          window_size    = 100,\n",
    "          trainpct     = 0.60,\n",
    "          shift     = 1,\n",
    "          normalize = False,\n",
    "          predictdays = 1):\n",
    "    \n",
    "#     Data   = share[attrs]\n",
    "    \n",
    "#     data = []\n",
    "#     for d in Data:\n",
    "#         data.append(d)\n",
    "    if trainpct < 1:\n",
    "        size   = len(data)\n",
    "        split  = int(np.rint(trainpct * size))\n",
    "\n",
    "        train  = data[:split+1]\n",
    "        test   = data[split+1:]    \n",
    "    else:\n",
    "        train = data\n",
    "    \n",
    "#     while (len(test)%predictdays != 0):\n",
    "#         test   = test[:-1]\n",
    "    \n",
    "#     while (len(train)%predictdays != 0):\n",
    "#         train   = train[:-1]    \n",
    "    \n",
    "#     length = len(data)\n",
    "\n",
    "#     window = int(np.rint(length * window))\n",
    "    \n",
    "    offset = shift - 1\n",
    "#     print(\"before\",train)\n",
    "    window_train = windowData(train, windowsize = window_size)\n",
    "#     splits_train = np.array([train[i if i is 0 else i + offset: i + window] for i in range(0,len(train) - window)])\n",
    "    if trainpct < 1:\n",
    "        window_test = windowData(test, windowsize = window_size, step = predictdays)\n",
    "#     splits_test = np.array([test[i if i is 0 else i + offset: i + window] for i in range(0,len(test) - window, predictdays)])\n",
    "\n",
    "    if normalize:\n",
    "        window_train = normalize_in_window(window_train)\n",
    "        if trainpct < 1:\n",
    "            window_test = normalize_in_window(window_test)\n",
    "\n",
    "    \n",
    "    \n",
    "    Xtrain = window_train[:-window_size,:-1]\n",
    "    ytrain = window_train[:, -1]\n",
    "    \n",
    "    if trainpct < 1:\n",
    "        Xtest = window_test[::predictdays,:-1]\n",
    "        ytest = window_test[:, -1] \n",
    "        temp = len(Xtest)-len(list(range(0,ytest.shape[0] - window_size, predictdays)))\n",
    "        Xtest = Xtest[:-temp]\n",
    "\n",
    "    # Chunk\n",
    "    ytrain = np.array([ytrain[i:i+predictdays] for i in range(0,ytrain.shape[0] - window_size)])\n",
    "    if trainpct < 1:\n",
    "        ytest = np.array([ytest[i:i+predictdays] for i in range(0,ytest.shape[0] - window_size, predictdays)])\n",
    "\n",
    "    if trainpct == 1:\n",
    "        return (Xtrain, ytrain) \n",
    "    else:\n",
    "        return (Xtrain, Xtest, ytrain, ytest) \n",
    "\n",
    "# Unit test --------------------------------------------------------------------------\n",
    "# share = quandl.get(\"WIKI/AAPL\")\n",
    "# data = share[\"Close\"]\n",
    "# Xtrain,  ytrain = splitSingleData(data, trainpct = 1, normalize = False,predictdays = 3)\n",
    "# print(Xtrain)\n",
    "# print(Xtrain.shape)\n",
    "# print(ytrain.shape)\n",
    "# print(Xtest.shape)\n",
    "# print(ytest.shape)\n",
    "# Xtrain, Xtest, ytrain, ytest = split(share, 'Close', normalize = False)\n",
    "# print(Xtrain)\n",
    "# print(Xtrain.shape)\n",
    "# print(ytrain.shape)"
   ]
  },
  {
   "cell_type": "code",
   "execution_count": 43,
   "metadata": {
    "collapsed": true
   },
   "outputs": [],
   "source": [
    "def create_1DCNN_1(outputunits):\n",
    "    \n",
    "    # RNN model\n",
    "    model = Sequential()\n",
    "    model.add(Conv1D(1,3,\n",
    "            input_shape = (None, 1),\n",
    "            activation='relu'))\n",
    "#     model.add(SimpleRNN(500, return_sequences = True))\n",
    "# #     model.add(core.Dropout(0.2))\n",
    "#     model.add(SimpleRNN(600, return_sequences = False))\n",
    "#     model.add((BatchNormalization()))\n",
    "#     model.add(core.Dropout(0.2))\n",
    "    model.add(Flatten())\n",
    "    model.add(core.Dense(units = 64, activation = 'relu'))\n",
    "    model.add(core.Dense(units = outputunits, activation = 'sigmoid')) \n",
    "\n",
    "    model.compile(loss = 'mse', optimizer = optimizers.RMSprop())\n",
    "    model.summary()\n",
    "    return model"
   ]
  },
  {
   "cell_type": "code",
   "execution_count": 44,
   "metadata": {
    "scrolled": true
   },
   "outputs": [
    {
     "name": "stdout",
     "output_type": "stream",
     "text": [
      "_________________________________________________________________\n",
      "Layer (type)                 Output Shape              Param #   \n",
      "=================================================================\n",
      "lstm_7 (LSTM)                (None, 128)               66560     \n",
      "_________________________________________________________________\n",
      "dense_31 (Dense)             (None, 64)                8256      \n",
      "_________________________________________________________________\n",
      "dense_32 (Dense)             (None, 5)                 325       \n",
      "=================================================================\n",
      "Total params: 75,141\n",
      "Trainable params: 75,141\n",
      "Non-trainable params: 0\n",
      "_________________________________________________________________\n"
     ]
    },
    {
     "data": {
      "text/plain": [
       "<keras.models.Sequential at 0x189c4438>"
      ]
     },
     "execution_count": 44,
     "metadata": {},
     "output_type": "execute_result"
    }
   ],
   "source": [
    "def create_LSTM_1(outputunits):\n",
    "    \n",
    "    # RNN model\n",
    "    model = Sequential()\n",
    "    model.add(LSTM(\n",
    "            input_shape = (None, 1),\n",
    "            units=128,\n",
    "            return_sequences = False))\n",
    "#     model.add(LSTM(200, return_sequences = True))\n",
    "#     model.add(core.Dropout(0.2))\n",
    "#     model.add(LSTM(100, return_sequences = False))\n",
    "#     model.add(core.Dropout(0.2))\n",
    "    model.add(core.Dense(units = 64, activation = 'relu'))\n",
    "    model.add(core.Dense(units = outputunits, activation = 'linear')) \n",
    "\n",
    "    model.compile(loss = 'mse', optimizer = optimizers.RMSprop())\n",
    "    plot_model(model,to_file='model22.png', show_shapes= True, show_layer_names=False)\n",
    "    model.summary()\n",
    "    return model\n",
    "\n",
    "# Test Unit----------------\n",
    "create_LSTM_1(5)"
   ]
  },
  {
   "cell_type": "code",
   "execution_count": 45,
   "metadata": {},
   "outputs": [
    {
     "name": "stdout",
     "output_type": "stream",
     "text": [
      "_________________________________________________________________\n",
      "Layer (type)                 Output Shape              Param #   \n",
      "=================================================================\n",
      "lstm_8 (LSTM)                (None, None, 128)         66560     \n",
      "_________________________________________________________________\n",
      "lstm_9 (LSTM)                (None, None, 64)          49408     \n",
      "_________________________________________________________________\n",
      "dense_33 (Dense)             (None, None, 64)          4160      \n",
      "_________________________________________________________________\n",
      "dense_34 (Dense)             (None, None, 5)           325       \n",
      "=================================================================\n",
      "Total params: 120,453\n",
      "Trainable params: 120,453\n",
      "Non-trainable params: 0\n",
      "_________________________________________________________________\n"
     ]
    },
    {
     "data": {
      "text/plain": [
       "<keras.models.Sequential at 0x171fcc50>"
      ]
     },
     "execution_count": 45,
     "metadata": {},
     "output_type": "execute_result"
    }
   ],
   "source": [
    "def create_LSTM_2(outputunits):\n",
    "    \n",
    "    # RNN model\n",
    "    model = Sequential()\n",
    "    model.add(LSTM(\n",
    "            input_shape = (None, 1),\n",
    "            units=128,\n",
    "            return_sequences = True))\n",
    "    model.add(LSTM(64, return_sequences = True))\n",
    "#     model.add(core.Dropout(0.2))\n",
    "#     model.add(LSTM(64, return_sequences = False))\n",
    "#     model.add(core.Dropout(0.2))\n",
    "\n",
    "    model.add(core.Dense(units = 64, activation = 'relu'))\n",
    "    model.add(core.Dense(units = outputunits, activation = 'linear')) \n",
    "    \n",
    "    model.compile(loss = 'mse', optimizer = optimizers.RMSprop())\n",
    "    plot_model(model,to_file='lstm.png', show_shapes= True, show_layer_names=False)\n",
    "    model.summary()\n",
    "    return model\n",
    "# Test Unit----------------\n",
    "create_LSTM_2(5)"
   ]
  },
  {
   "cell_type": "code",
   "execution_count": 46,
   "metadata": {},
   "outputs": [
    {
     "name": "stdout",
     "output_type": "stream",
     "text": [
      "_________________________________________________________________\n",
      "Layer (type)                 Output Shape              Param #   \n",
      "=================================================================\n",
      "lstm_10 (LSTM)               (None, None, 128)         66560     \n",
      "_________________________________________________________________\n",
      "lstm_11 (LSTM)               (None, None, 128)         131584    \n",
      "_________________________________________________________________\n",
      "lstm_12 (LSTM)               (None, 64)                49408     \n",
      "_________________________________________________________________\n",
      "dense_35 (Dense)             (None, 64)                4160      \n",
      "_________________________________________________________________\n",
      "dense_36 (Dense)             (None, 5)                 325       \n",
      "=================================================================\n",
      "Total params: 252,037\n",
      "Trainable params: 252,037\n",
      "Non-trainable params: 0\n",
      "_________________________________________________________________\n"
     ]
    },
    {
     "data": {
      "text/plain": [
       "<keras.models.Sequential at 0x171fcc18>"
      ]
     },
     "execution_count": 46,
     "metadata": {},
     "output_type": "execute_result"
    }
   ],
   "source": [
    "def create_LSTM_3(outputunits):\n",
    "    \n",
    "    # RNN model\n",
    "    model = Sequential()\n",
    "    model.add(LSTM(\n",
    "            input_shape = (None, 1),\n",
    "            units=128,\n",
    "            return_sequences = True))\n",
    "    model.add(LSTM(128, return_sequences = True))\n",
    "#     model.add(core.Dropout(0.2))\n",
    "    model.add(LSTM(64, return_sequences = False))\n",
    "#     model.add(core.Dropout(0.2))\n",
    "\n",
    "    model.add(core.Dense(units = 64, activation = 'relu'))\n",
    "    model.add(core.Dense(units = outputunits, activation = 'linear')) \n",
    "    \n",
    "    model.compile(loss = 'mse', optimizer = optimizers.RMSprop())\n",
    "    model.summary()\n",
    "    return model\n",
    "    \n",
    "# Test Unit ------------\n",
    "create_LSTM_3(5)"
   ]
  },
  {
   "cell_type": "code",
   "execution_count": 47,
   "metadata": {},
   "outputs": [
    {
     "name": "stdout",
     "output_type": "stream",
     "text": [
      "_________________________________________________________________\n",
      "Layer (type)                 Output Shape              Param #   \n",
      "=================================================================\n",
      "simple_rnn_33 (SimpleRNN)    (None, 128)               16640     \n",
      "_________________________________________________________________\n",
      "dense_37 (Dense)             (None, 64)                8256      \n",
      "_________________________________________________________________\n",
      "dense_38 (Dense)             (None, 5)                 325       \n",
      "=================================================================\n",
      "Total params: 25,221\n",
      "Trainable params: 25,221\n",
      "Non-trainable params: 0\n",
      "_________________________________________________________________\n"
     ]
    },
    {
     "data": {
      "text/plain": [
       "<keras.models.Sequential at 0x171fcf98>"
      ]
     },
     "execution_count": 47,
     "metadata": {},
     "output_type": "execute_result"
    }
   ],
   "source": [
    "def create_SimpleRNN_1(outputunits):\n",
    "    \n",
    "    # RNN model\n",
    "    model = Sequential()\n",
    "    model.add(SimpleRNN(\n",
    "            input_shape = (None, 1),\n",
    "            units=128,\n",
    "            return_sequences = False))\n",
    "#     model.add(SimpleRNN(500, return_sequences = True))\n",
    "# #     model.add(core.Dropout(0.2))\n",
    "#     model.add(SimpleRNN(600, return_sequences = False))\n",
    "#     model.add((BatchNormalization()))\n",
    "#     model.add(core.Dropout(0.2))\n",
    "\n",
    "    model.add(core.Dense(units = 64, activation = 'relu'))\n",
    "    model.add(core.Dense(units = outputunits, activation = 'linear')) \n",
    "\n",
    "    model.compile(loss = 'mse', optimizer = optimizers.RMSprop())\n",
    "    model.summary()\n",
    "    \n",
    "    return model\n",
    "# Test Unit----------------\n",
    "create_SimpleRNN_1(5)"
   ]
  },
  {
   "cell_type": "code",
   "execution_count": 48,
   "metadata": {},
   "outputs": [
    {
     "data": {
      "text/plain": [
       "<keras.models.Sequential at 0x19d59fd0>"
      ]
     },
     "execution_count": 48,
     "metadata": {},
     "output_type": "execute_result"
    }
   ],
   "source": [
    "def create_SimpleRNN_2(outputunits):\n",
    "    \n",
    "    # RNN model\n",
    "    model = Sequential()\n",
    "    model.add(SimpleRNN(\n",
    "            input_shape = (None, 1),\n",
    "            units=128,\n",
    "            return_sequences = True))\n",
    "    model.add(SimpleRNN(64, return_sequences = False))\n",
    "# #     model.add(core.Dropout(0.2))\n",
    "#     model.add(SimpleRNN(600, return_sequences = False))\n",
    "#     model.add((BatchNormalization()))\n",
    "#     model.add(core.Dropout(0.2))\n",
    "\n",
    "    model.add(core.Dense(units = 64, activation = 'relu'))\n",
    "    model.add(core.Dense(units = outputunits, activation = 'linear')) \n",
    "\n",
    "    model.compile(loss = 'mse', optimizer = optimizers.RMSprop())\n",
    "    plot_model(model,to_file='model22.png', show_shapes= True, show_layer_names=False)\n",
    "#     model.summary()\n",
    "    return model\n",
    "\n",
    "# Test Unit----------------\n",
    "create_SimpleRNN_2(5)"
   ]
  },
  {
   "cell_type": "code",
   "execution_count": 49,
   "metadata": {},
   "outputs": [
    {
     "name": "stdout",
     "output_type": "stream",
     "text": [
      "_________________________________________________________________\n",
      "Layer (type)                 Output Shape              Param #   \n",
      "=================================================================\n",
      "simple_rnn_36 (SimpleRNN)    (None, None, 128)         16640     \n",
      "_________________________________________________________________\n",
      "simple_rnn_37 (SimpleRNN)    (None, None, 128)         32896     \n",
      "_________________________________________________________________\n",
      "simple_rnn_38 (SimpleRNN)    (None, 64)                12352     \n",
      "_________________________________________________________________\n",
      "dense_41 (Dense)             (None, 64)                4160      \n",
      "_________________________________________________________________\n",
      "dense_42 (Dense)             (None, 5)                 325       \n",
      "=================================================================\n",
      "Total params: 66,373\n",
      "Trainable params: 66,373\n",
      "Non-trainable params: 0\n",
      "_________________________________________________________________\n"
     ]
    },
    {
     "data": {
      "text/plain": [
       "<keras.models.Sequential at 0x1a13acc0>"
      ]
     },
     "execution_count": 49,
     "metadata": {},
     "output_type": "execute_result"
    }
   ],
   "source": [
    "def create_SimpleRNN_3(outputunits):\n",
    "    \n",
    "    # RNN model\n",
    "    model = Sequential()\n",
    "    model.add(SimpleRNN(\n",
    "            input_shape = (None, 1),\n",
    "            units=128,\n",
    "            return_sequences = True))\n",
    "    model.add(SimpleRNN(128, return_sequences = True))\n",
    "    model.add(SimpleRNN(64, return_sequences = False))\n",
    "# #     model.add(core.Dropout(0.2))\n",
    "#     model.add(SimpleRNN(600, return_sequences = False))\n",
    "#     model.add((BatchNormalization()))\n",
    "#     model.add(core.Dropout(0.2))\n",
    "\n",
    "    model.add(core.Dense(units = 64, activation = 'relu'))\n",
    "    model.add(core.Dense(units = outputunits, activation = 'linear')) \n",
    "\n",
    "    model.compile(loss = 'mse', optimizer = optimizers.RMSprop())\n",
    "    model.summary()\n",
    "    plot_model(model,to_file='model1.png', show_shapes= True, show_layer_names=False)\n",
    "    return model\n",
    "# Test Unit----------------\n",
    "create_SimpleRNN_3(5)"
   ]
  },
  {
   "cell_type": "code",
   "execution_count": 50,
   "metadata": {
    "collapsed": true
   },
   "outputs": [],
   "source": [
    "def create_GRU_1(outputunits):\n",
    "    \n",
    "    # RNN model\n",
    "    model = Sequential()\n",
    "    model.add(GRU(\n",
    "            input_shape = (None, 1),\n",
    "            units=128,\n",
    "            return_sequences = False))\n",
    "#     model.add(SimpleRNN(128, return_sequences = True))\n",
    "#     model.add(SimpleRNN(64, return_sequences = False))\n",
    "# #     model.add(core.Dropout(0.2))\n",
    "#     model.add(SimpleRNN(600, return_sequences = False))\n",
    "#     model.add((BatchNormalization()))\n",
    "#     model.add(core.Dropout(0.2))\n",
    "\n",
    "    model.add(core.Dense(units = 64, activation = 'relu'))\n",
    "    model.add(core.Dense(units = outputunits, activation = 'linear')) \n",
    "\n",
    "    model.compile(loss = 'mse', optimizer = optimizers.RMSprop(decay = 0.00005))\n",
    "    model.summary()\n",
    "    return model"
   ]
  },
  {
   "cell_type": "code",
   "execution_count": 51,
   "metadata": {
    "collapsed": true
   },
   "outputs": [],
   "source": [
    "def create_GRU_2(outputunits):\n",
    "    \n",
    "    # RNN model\n",
    "    model = Sequential()\n",
    "    model.add(GRU(\n",
    "            input_shape = (None, 1),\n",
    "            units=128,\n",
    "            return_sequences = True))\n",
    "    model.add(GRU(64, return_sequences = False))\n",
    "#     model.add(SimpleRNN(64, return_sequences = False))\n",
    "# #     model.add(core.Dropout(0.2))\n",
    "#     model.add(SimpleRNN(600, return_sequences = False))\n",
    "#     model.add((BatchNormalization()))\n",
    "#     model.add(core.Dropout(0.2))\n",
    "\n",
    "    model.add(core.Dense(units = 64, activation = 'relu'))\n",
    "    model.add(core.Dense(units = outputunits, activation = 'linear')) \n",
    "\n",
    "    model.compile(loss = 'mse', optimizer = optimizers.RMSprop())\n",
    "    model.summary()\n",
    "    return model"
   ]
  },
  {
   "cell_type": "code",
   "execution_count": 52,
   "metadata": {},
   "outputs": [
    {
     "name": "stdout",
     "output_type": "stream",
     "text": [
      "_________________________________________________________________\n",
      "Layer (type)                 Output Shape              Param #   \n",
      "=================================================================\n",
      "gru_4 (GRU)                  (None, None, 128)         49920     \n",
      "_________________________________________________________________\n",
      "gru_5 (GRU)                  (None, None, 128)         98688     \n",
      "_________________________________________________________________\n",
      "gru_6 (GRU)                  (None, 64)                37056     \n",
      "_________________________________________________________________\n",
      "dense_43 (Dense)             (None, 64)                4160      \n",
      "_________________________________________________________________\n",
      "dense_44 (Dense)             (None, 5)                 325       \n",
      "=================================================================\n",
      "Total params: 190,149\n",
      "Trainable params: 190,149\n",
      "Non-trainable params: 0\n",
      "_________________________________________________________________\n"
     ]
    },
    {
     "data": {
      "text/plain": [
       "<keras.models.Sequential at 0x16eddb70>"
      ]
     },
     "execution_count": 52,
     "metadata": {},
     "output_type": "execute_result"
    }
   ],
   "source": [
    "def create_GRU_3(outputunits):\n",
    "    \n",
    "    # RNN model\n",
    "    model = Sequential()\n",
    "    model.add(GRU(\n",
    "            input_shape = (None, 1),\n",
    "            units=128,\n",
    "            return_sequences = True))\n",
    "    model.add(GRU(128, return_sequences = True))\n",
    "    model.add(GRU(64, return_sequences = False))\n",
    "# #     model.add(core.Dropout(0.2))\n",
    "#     model.add(SimpleRNN(600, return_sequences = False))\n",
    "#     model.add((BatchNormalization()))\n",
    "#     model.add(core.Dropout(0.2))\n",
    "\n",
    "    model.add(core.Dense(units = 64, activation = 'relu'))\n",
    "    model.add(core.Dense(units = outputunits, activation = 'linear')) \n",
    "\n",
    "    model.compile(loss = 'mse', optimizer = optimizers.RMSprop())\n",
    "    plot_model(model,to_file='GRU.png', show_shapes= True, show_layer_names=False)\n",
    "    model.summary()\n",
    "    return model\n",
    "\n",
    "# Test Unit----------------\n",
    "create_GRU_3(5)\n"
   ]
  },
  {
   "cell_type": "code",
   "execution_count": 66,
   "metadata": {
    "scrolled": false
   },
   "outputs": [
    {
     "name": "stdout",
     "output_type": "stream",
     "text": [
      "_________________________________________________________________\n",
      "Layer (type)                 Output Shape              Param #   \n",
      "=================================================================\n",
      "simple_rnn_42 (SimpleRNN)    (None, 128)               16640     \n",
      "_________________________________________________________________\n",
      "dense_53 (Dense)             (None, 64)                8256      \n",
      "_________________________________________________________________\n",
      "dense_54 (Dense)             (None, 1)                 65        \n",
      "=================================================================\n",
      "Total params: 24,961\n",
      "Trainable params: 24,961\n",
      "Non-trainable params: 0\n",
      "_________________________________________________________________\n",
      "Train on 4858 samples, validate on 540 samples\n",
      "Epoch 1/40\n",
      "4858/4858 [==============================] - 4s - loss: 0.0139 - val_loss: 0.0027\n",
      "Epoch 2/40\n",
      "4858/4858 [==============================] - 3s - loss: 0.0042 - val_loss: 0.0031\n",
      "Epoch 3/40\n",
      "4858/4858 [==============================] - 3s - loss: 0.0033 - val_loss: 0.0022\n",
      "Epoch 4/40\n",
      "4858/4858 [==============================] - 3s - loss: 0.0025 - val_loss: 0.0057\n",
      "Epoch 5/40\n",
      "4858/4858 [==============================] - 3s - loss: 0.0024 - val_loss: 0.0022\n",
      "Epoch 6/40\n",
      "4858/4858 [==============================] - 3s - loss: 0.0020 - val_loss: 0.0017\n",
      "Epoch 7/40\n",
      "4858/4858 [==============================] - 3s - loss: 0.0020 - val_loss: 0.0026\n",
      "Epoch 8/40\n",
      "4858/4858 [==============================] - 3s - loss: 0.0019 - val_loss: 0.0036\n",
      "Epoch 9/40\n",
      "4858/4858 [==============================] - 3s - loss: 0.0019 - val_loss: 0.0019\n",
      "Epoch 10/40\n",
      "4858/4858 [==============================] - 3s - loss: 0.0019 - val_loss: 0.0017\n",
      "Epoch 11/40\n",
      "4858/4858 [==============================] - 3s - loss: 0.0019 - val_loss: 0.0017\n",
      "Epoch 12/40\n",
      "4858/4858 [==============================] - 3s - loss: 0.0018 - val_loss: 0.0016\n",
      "Epoch 13/40\n",
      "4858/4858 [==============================] - 3s - loss: 0.0019 - val_loss: 0.0016\n",
      "Epoch 14/40\n",
      "4858/4858 [==============================] - 3s - loss: 0.0019 - val_loss: 0.0022\n",
      "Epoch 15/40\n",
      "4858/4858 [==============================] - 3s - loss: 0.0018 - val_loss: 0.0016\n",
      "Epoch 16/40\n",
      "4858/4858 [==============================] - 3s - loss: 0.0018 - val_loss: 0.0013\n",
      "Epoch 17/40\n",
      "4858/4858 [==============================] - 3s - loss: 0.0018 - val_loss: 0.0014\n",
      "Epoch 18/40\n",
      "4858/4858 [==============================] - 4s - loss: 0.0017 - val_loss: 0.0014\n",
      "Epoch 19/40\n",
      "4858/4858 [==============================] - 3s - loss: 0.0018 - val_loss: 0.0014\n",
      "Epoch 20/40\n",
      "4858/4858 [==============================] - 3s - loss: 0.0017 - val_loss: 0.0013\n",
      "Epoch 21/40\n",
      "4858/4858 [==============================] - 3s - loss: 0.0022 - val_loss: 0.0014\n",
      "Epoch 22/40\n",
      "4858/4858 [==============================] - 3s - loss: 0.0016 - val_loss: 0.0015\n",
      "Epoch 23/40\n",
      "4858/4858 [==============================] - 3s - loss: 0.0017 - val_loss: 0.0013\n",
      "Epoch 24/40\n",
      "4858/4858 [==============================] - 3s - loss: 0.0018 - val_loss: 0.0013\n",
      "Epoch 25/40\n",
      "4858/4858 [==============================] - 3s - loss: 0.0018 - val_loss: 0.0013\n",
      "Epoch 26/40\n",
      "4858/4858 [==============================] - 3s - loss: 0.0017 - val_loss: 0.0015\n",
      "Epoch 27/40\n",
      "4858/4858 [==============================] - 3s - loss: 0.0017 - val_loss: 0.0013\n",
      "Epoch 28/40\n",
      "4858/4858 [==============================] - 3s - loss: 0.0018 - val_loss: 0.0018\n",
      "Epoch 29/40\n",
      "4858/4858 [==============================] - 4s - loss: 0.0017 - val_loss: 0.0015\n",
      "Epoch 30/40\n",
      "4858/4858 [==============================] - 3s - loss: 0.0018 - val_loss: 0.0014\n",
      "Epoch 31/40\n",
      "4858/4858 [==============================] - 3s - loss: 0.0016 - val_loss: 0.0014\n",
      "Epoch 32/40\n",
      "4858/4858 [==============================] - 3s - loss: 0.0017 - val_loss: 0.0017\n",
      "Epoch 33/40\n",
      "4858/4858 [==============================] - 3s - loss: 0.0016 - val_loss: 0.0013\n",
      "Epoch 34/40\n",
      "4858/4858 [==============================] - 3s - loss: 0.0017 - val_loss: 0.0014\n",
      "Epoch 35/40\n",
      "4858/4858 [==============================] - 3s - loss: 0.0018 - val_loss: 0.0015\n",
      "Epoch 36/40\n",
      "4858/4858 [==============================] - 3s - loss: 0.0016 - val_loss: 0.0022\n",
      "Epoch 37/40\n",
      "4858/4858 [==============================] - 3s - loss: 0.0016 - val_loss: 0.0018\n",
      "Epoch 38/40\n",
      "4858/4858 [==============================] - 3s - loss: 0.0017 - val_loss: 0.0022\n",
      "Epoch 39/40\n",
      "4858/4858 [==============================] - 3s - loss: 0.0016 - val_loss: 0.0014\n",
      "Epoch 40/40\n",
      "4858/4858 [==============================] - 3s - loss: 0.0017 - val_loss: 0.0015\n"
     ]
    }
   ],
   "source": [
    "def stock_predict():\n",
    "#     stock_data = np.load(\"../stock_dataset/stock_data_10.npy\")\n",
    "    share = quandl.get(\"WIKI/AAPL\")\n",
    "    data = share[\"Close\"]\n",
    "#     Xtrain,  ytrain = splitSingleData(data, trainpct = 1, normalize = False, predictdays = 3)\n",
    "    MSE = []\n",
    "    predictday = 1\n",
    "#     layers      = [1, 100, 100, predictday]# number of neurons in each layer\n",
    "    nbatch      = 128  \n",
    "    nepoch      = 40\n",
    "    nvalidation = 0.05\n",
    "\n",
    "    learning_rate = 0.0005\n",
    "    dropout    = 0.2\n",
    "    activation = 'linear'\n",
    "    loss = 'mse'\n",
    "\n",
    "        \n",
    "    # Xtrain, Xtest, ytrain, ytest = splitShare(share, 'Close', normalize = True,predictdays = predictday)\n",
    "    Xtrain, Xtest, ytrain, ytest = splitSingleData(data, window_size = 100,  normalize = True, predictdays = predictday)\n",
    "\n",
    "    Xtrain = np.reshape(Xtrain, (Xtrain.shape[0], Xtrain.shape[1], 1))\n",
    "    Xtest  = np.reshape( Xtest, ( Xtest.shape[0],  Xtest.shape[1], 1))\n",
    "\n",
    "\n",
    "    # Choose one model\n",
    "    model = create_SimpleRNN_1(predictday)\n",
    "\n",
    "\n",
    "    # Training\n",
    "#     validation = (Xtest, ytest)\n",
    "    hist_obj = model.fit(Xtrain, ytrain,\n",
    "            batch_size       = nbatch,\n",
    "            epochs         = nepoch,\n",
    "            validation_split = 0.1)\n",
    "\n",
    "    # Testing\n",
    "    p = model.predict(Xtest)\n",
    "    mse = mean_squared_error(ytest, p)\n",
    "    MSE.append(mse)\n",
    "    \n",
    "    return p, ytest, MSE, hist_obj\n",
    "\n",
    "# Test Unit ----------------------------------------------------------------------\n",
    "p, ytest, MSE, hist_obj = stock_predict()"
   ]
  },
  {
   "cell_type": "code",
   "execution_count": 62,
   "metadata": {},
   "outputs": [
    {
     "name": "stdout",
     "output_type": "stream",
     "text": [
      "Loss of prediction of Facebook with LSTM is  [0.0012670859956486593] (cell = LSTM, dropout = 0.2, activation = linear, loss = mse, optimizer = rmsprop, epoch = 15)\n"
     ]
    }
   ],
   "source": [
    "print(\"Loss of prediction of Facebook with LSTM is \", MSE, r\"(cell = {}, dropout = {}, activation = {}, loss = {}, optimizer = {}, epoch = {})\".format('LSTM', 0.2, 'linear', 'mse', 'rmsprop', 15))"
   ]
  },
  {
   "cell_type": "code",
   "execution_count": null,
   "metadata": {},
   "outputs": [],
   "source": []
  },
  {
   "cell_type": "code",
   "execution_count": 70,
   "metadata": {
    "scrolled": true
   },
   "outputs": [
    {
     "data": {
      "image/png": "[encoded data removed]",
      "text/plain": [
       "<matplotlib.figure.Figure at 0x22d47ef0>"
      ]
     },
     "metadata": {},
     "output_type": "display_data"
    }
   ],
   "source": [
    "# # Plot predction figure\n",
    "plt.style.use('ggplot')\n",
    "plt.figure\n",
    "plt.plot(ytest.flatten(), label=\"Ground Truth\")\n",
    "plt.plot(p.flatten(), label=\"Prediction\")\n",
    "plt.xlabel(\"Days\")\n",
    "plt.ylabel(\"Close Price\")\n",
    "plt.title(r'Company Ticker = {}'.format('AAPL')+\"\\n\"+r'cell = {},  loss = {}, optimizer = {}, epoch = {}'.format('SimpleRNN-1','mse', 'rmsprop', 40))\n",
    "plt.legend(loc='best')\n",
    "# plt.savefig('predict')\n",
    "plt.show()"
   ]
  },
  {
   "cell_type": "code",
   "execution_count": 68,
   "metadata": {
    "scrolled": true
   },
   "outputs": [
    {
     "data": {
      "image/png": "[encoded data removed]",
      "text/plain": [
       "<matplotlib.figure.Figure at 0x1db0bef0>"
      ]
     },
     "metadata": {},
     "output_type": "display_data"
    }
   ],
   "source": [
    "# # Plot loss functiom\n",
    "loss = hist_obj.history\n",
    "traintloss = loss['loss']\n",
    "testloss = loss['val_loss']\n",
    "plt.figure\n",
    "plt.plot(testloss, label=\"Validation loss\")\n",
    "plt.plot(traintloss, label=\"Traning loss\")\n",
    "plt.xlabel(\"Epoch\")\n",
    "plt.ylabel(\"Loss\")\n",
    "plt.title(r'Company Ticker = {}'.format('AAPL')+\"\\n\"+r'cell = {},  loss = {}, optimizer = {}, epoch = {}'.format('SimpleRNN-1','mse', 'rmsprop', 40))\n",
    "plt.legend(loc='best')\n",
    "# plt.savefig('loss')\n",
    "plt.show()"
   ]
  },
  {
   "cell_type": "code",
   "execution_count": null,
   "metadata": {
    "collapsed": true
   },
   "outputs": [],
   "source": []
  },
  {
   "cell_type": "code",
   "execution_count": null,
   "metadata": {},
   "outputs": [],
   "source": []
  },
  {
   "cell_type": "code",
   "execution_count": null,
   "metadata": {
    "collapsed": true
   },
   "outputs": [],
   "source": []
  }
 ],
 "metadata": {
  "kernelspec": {
   "display_name": "Python [conda env:py36]",
   "language": "python",
   "name": "conda-env-py36-py"
  },
  "language_info": {
   "codemirror_mode": {
    "name": "ipython",
    "version": 3
   },
   "file_extension": ".py",
   "mimetype": "text/x-python",
   "name": "python",
   "nbconvert_exporter": "python",
   "pygments_lexer": "ipython3",
   "version": "3.6.3"
  }
 },
 "nbformat": 4,
 "nbformat_minor": 2
}
